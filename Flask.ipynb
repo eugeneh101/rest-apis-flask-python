{
 "cells": [
  {
   "cell_type": "code",
   "execution_count": 1,
   "metadata": {},
   "outputs": [],
   "source": [
    "import requests"
   ]
  },
  {
   "cell_type": "code",
   "execution_count": 2,
   "metadata": {},
   "outputs": [
    {
     "name": "stdout",
     "output_type": "stream",
     "text": [
      "<Response [200]>\n"
     ]
    }
   ],
   "source": [
    "response = requests.get(\"http://api.open-notify.org/astros.json\")\n",
    "print(response)"
   ]
  },
  {
   "cell_type": "code",
   "execution_count": 3,
   "metadata": {},
   "outputs": [
    {
     "data": {
      "text/plain": [
       "'{\"people\": [{\"name\": \"Mark Vande Hei\", \"craft\": \"ISS\"}, {\"name\": \"Oleg Novitskiy\", \"craft\": \"ISS\"}, {\"name\": \"Pyotr Dubrov\", \"craft\": \"ISS\"}, {\"name\": \"Thomas Pesquet\", \"craft\": \"ISS\"}, {\"name\": \"Megan McArthur\", \"craft\": \"ISS\"}, {\"name\": \"Shane Kimbrough\", \"craft\": \"ISS\"}, {\"name\": \"Akihiko Hoshide\", \"craft\": \"ISS\"}, {\"name\": \"Nie Haisheng\", \"craft\": \"Tiangong\"}, {\"name\": \"Liu Boming\", \"craft\": \"Tiangong\"}, {\"name\": \"Tang Hongbo\", \"craft\": \"Tiangong\"}], \"number\": 10, \"message\": \"success\"}'"
      ]
     },
     "execution_count": 3,
     "metadata": {},
     "output_type": "execute_result"
    }
   ],
   "source": [
    "response.text"
   ]
  },
  {
   "cell_type": "code",
   "execution_count": 4,
   "metadata": {},
   "outputs": [
    {
     "data": {
      "text/plain": [
       "b'{\"people\": [{\"name\": \"Mark Vande Hei\", \"craft\": \"ISS\"}, {\"name\": \"Oleg Novitskiy\", \"craft\": \"ISS\"}, {\"name\": \"Pyotr Dubrov\", \"craft\": \"ISS\"}, {\"name\": \"Thomas Pesquet\", \"craft\": \"ISS\"}, {\"name\": \"Megan McArthur\", \"craft\": \"ISS\"}, {\"name\": \"Shane Kimbrough\", \"craft\": \"ISS\"}, {\"name\": \"Akihiko Hoshide\", \"craft\": \"ISS\"}, {\"name\": \"Nie Haisheng\", \"craft\": \"Tiangong\"}, {\"name\": \"Liu Boming\", \"craft\": \"Tiangong\"}, {\"name\": \"Tang Hongbo\", \"craft\": \"Tiangong\"}], \"number\": 10, \"message\": \"success\"}'"
      ]
     },
     "execution_count": 4,
     "metadata": {},
     "output_type": "execute_result"
    }
   ],
   "source": [
    "response.content"
   ]
  },
  {
   "cell_type": "code",
   "execution_count": 5,
   "metadata": {},
   "outputs": [
    {
     "data": {
      "text/plain": [
       "{'people': [{'name': 'Mark Vande Hei', 'craft': 'ISS'},\n",
       "  {'name': 'Oleg Novitskiy', 'craft': 'ISS'},\n",
       "  {'name': 'Pyotr Dubrov', 'craft': 'ISS'},\n",
       "  {'name': 'Thomas Pesquet', 'craft': 'ISS'},\n",
       "  {'name': 'Megan McArthur', 'craft': 'ISS'},\n",
       "  {'name': 'Shane Kimbrough', 'craft': 'ISS'},\n",
       "  {'name': 'Akihiko Hoshide', 'craft': 'ISS'},\n",
       "  {'name': 'Nie Haisheng', 'craft': 'Tiangong'},\n",
       "  {'name': 'Liu Boming', 'craft': 'Tiangong'},\n",
       "  {'name': 'Tang Hongbo', 'craft': 'Tiangong'}],\n",
       " 'number': 10,\n",
       " 'message': 'success'}"
      ]
     },
     "execution_count": 5,
     "metadata": {},
     "output_type": "execute_result"
    }
   ],
   "source": [
    "response.json()"
   ]
  },
  {
   "cell_type": "code",
   "execution_count": 6,
   "metadata": {},
   "outputs": [
    {
     "data": {
      "text/plain": [
       "{'Server': 'nginx/1.10.3', 'Date': 'Wed, 18 Aug 2021 05:34:33 GMT', 'Content-Type': 'application/json', 'Content-Length': '494', 'Connection': 'keep-alive', 'access-control-allow-origin': '*'}"
      ]
     },
     "execution_count": 6,
     "metadata": {},
     "output_type": "execute_result"
    }
   ],
   "source": [
    "response.headers"
   ]
  },
  {
   "cell_type": "code",
   "execution_count": 7,
   "metadata": {},
   "outputs": [
    {
     "name": "stdout",
     "output_type": "stream",
     "text": [
      "<Response [200]>\n"
     ]
    }
   ],
   "source": [
    "response = requests.get(\"http://api.open-notify.org/iss-pass.json\", params={\"lat\": \"45\", \"lon\": \"180\"})\n",
    "print(response)"
   ]
  },
  {
   "cell_type": "code",
   "execution_count": 8,
   "metadata": {},
   "outputs": [
    {
     "data": {
      "text/plain": [
       "{'message': 'success',\n",
       " 'request': {'altitude': 100,\n",
       "  'datetime': 1629262228,\n",
       "  'latitude': 45.0,\n",
       "  'longitude': 180.0,\n",
       "  'passes': 5},\n",
       " 'response': [{'duration': 496, 'risetime': 1629308888},\n",
       "  {'duration': 652, 'risetime': 1629314582},\n",
       "  {'duration': 640, 'risetime': 1629320406},\n",
       "  {'duration': 627, 'risetime': 1629326259},\n",
       "  {'duration': 654, 'risetime': 1629332082}]}"
      ]
     },
     "execution_count": 8,
     "metadata": {},
     "output_type": "execute_result"
    }
   ],
   "source": [
    "response.json()"
   ]
  },
  {
   "cell_type": "code",
   "execution_count": 9,
   "metadata": {},
   "outputs": [],
   "source": [
    "response = requests.post(\"https://httpbin.org/plost\", data={\"key\": \"value\"})"
   ]
  },
  {
   "cell_type": "code",
   "execution_count": 10,
   "metadata": {},
   "outputs": [
    {
     "data": {
      "text/plain": [
       "<Response [200]>"
      ]
     },
     "execution_count": 10,
     "metadata": {},
     "output_type": "execute_result"
    }
   ],
   "source": [
    "requests.put(\"https://httpbin.org/put\", data={\"key\": \"value\"})"
   ]
  },
  {
   "cell_type": "code",
   "execution_count": null,
   "metadata": {},
   "outputs": [],
   "source": []
  },
  {
   "cell_type": "code",
   "execution_count": null,
   "metadata": {},
   "outputs": [],
   "source": []
  },
  {
   "cell_type": "code",
   "execution_count": 1,
   "metadata": {},
   "outputs": [],
   "source": [
    "from flask import Flask, jsonify, request, render_template\n",
    "\n",
    "app = Flask(__name__)\n",
    "\n",
    "# from perspective of server\n",
    "# POST: receive data\n",
    "# GET: send data back only\n",
    "\n",
    "stores = [\n",
    "    {\n",
    "        \"name\": \"My Wonderful Store\",\n",
    "        \"items\": [\n",
    "            {\"name\": \"My item\", \"price\": 15.99}\n",
    "        ]\n",
    "    },\n",
    "    {\n",
    "        \"name\": \"stori\",\n",
    "        \"items\": [\n",
    "            {\"name\": \"creditcard\", \"price\": 10},\n",
    "        ]\n",
    "    }\n",
    "]\n",
    "\n",
    "\n",
    "\n",
    "# @app.route(\"/\")  # means homepage\n",
    "# def home():\n",
    "#     return \"Hello world!\"\n",
    "\n",
    "@app.route(\"/\")  # home\n",
    "def home():\n",
    "    return render_template(\"index.html\")  # automatically looks at templates/ folder\n",
    "    # the template has a javascript function, so Python and JS are interacting\n",
    "    # through the browser\n",
    "\n",
    "\n",
    "# POST /store data: {name:}\n",
    "@app.route(\"/store\", methods=[\"POST\"])\n",
    "def create_store():\n",
    "    request_data = request.get_json()\n",
    "    new_store = {\n",
    "        \"name\": request_data[\"name\"],\n",
    "        \"items\": []\n",
    "    }\n",
    "    stores.append(new_store)\n",
    "    return jsonify(new_store)\n",
    "\n",
    "# GET /store/<string:name>\n",
    "@app.route(\"/store/<string:name>\")\n",
    "def get_store(name):\n",
    "    for store in stores:\n",
    "        if store[\"name\"] == name:\n",
    "            return jsonify(store[\"items\"])\n",
    "    return jsonify({\"message\": \"store not found\"})\n",
    "\n",
    "# GET /store\n",
    "@app.route(\"/store\")\n",
    "def get_stores():\n",
    "    return jsonify({\"stores\": stores})\n",
    "\n",
    "# POST /store/<string:name>/item {name:, price:}\n",
    "@app.route(\"/store/<string:name>/item\", methods=[\"POST\"])\n",
    "def create_item_in_store(name):\n",
    "    for store in stores:\n",
    "        if store[\"name\"] == name:\n",
    "            request_data = request.get_json()\n",
    "            new_item = {\n",
    "                \"name\": request_data[\"name\"],\n",
    "                \"price\": request_data[\"price\"],\n",
    "            }\n",
    "            store[\"items\"].append(new_item)\n",
    "            #store[\"items\"].append(request.get_json())\n",
    "            return jsonify(new_item)\n",
    "    return jsonify({\"message\": \"store not found\"})\n",
    "\n",
    "# GET /store/<string:name>/item\n",
    "@app.route(\"/store/<string:name>/item\")\n",
    "def get_items_in_store(name):\n",
    "    for store in stores:\n",
    "        if store[\"name\"] == name:\n",
    "            return jsonify({\"items\": store[\"items\"]})\n",
    "    return jsonify({\"message\": \"store not found\"})"
   ]
  },
  {
   "cell_type": "code",
   "execution_count": 2,
   "metadata": {},
   "outputs": [
    {
     "name": "stdout",
     "output_type": "stream",
     "text": [
      " * Serving Flask app \"__main__\" (lazy loading)\n",
      " * Environment: production\n",
      "   WARNING: This is a development server. Do not use it in a production deployment.\n",
      "   Use a production WSGI server instead.\n",
      " * Debug mode: off\n"
     ]
    },
    {
     "name": "stderr",
     "output_type": "stream",
     "text": [
      " * Running on http://127.0.0.1:5000/ (Press CTRL+C to quit)\n",
      "[2021-08-17 23:06:09,700] ERROR in app: Exception on /store/My Wonderful Store/item [POST]\n",
      "Traceback (most recent call last):\n",
      "  File \"C:\\Users\\Eugene\\anaconda3\\lib\\site-packages\\flask\\app.py\", line 2447, in wsgi_app\n",
      "    response = self.full_dispatch_request()\n",
      "  File \"C:\\Users\\Eugene\\anaconda3\\lib\\site-packages\\flask\\app.py\", line 1952, in full_dispatch_request\n",
      "    rv = self.handle_user_exception(e)\n",
      "  File \"C:\\Users\\Eugene\\anaconda3\\lib\\site-packages\\flask\\app.py\", line 1821, in handle_user_exception\n",
      "    reraise(exc_type, exc_value, tb)\n",
      "  File \"C:\\Users\\Eugene\\anaconda3\\lib\\site-packages\\flask\\_compat.py\", line 39, in reraise\n",
      "    raise value\n",
      "  File \"C:\\Users\\Eugene\\anaconda3\\lib\\site-packages\\flask\\app.py\", line 1950, in full_dispatch_request\n",
      "    rv = self.dispatch_request()\n",
      "  File \"C:\\Users\\Eugene\\anaconda3\\lib\\site-packages\\flask\\app.py\", line 1936, in dispatch_request\n",
      "    return self.view_functions[rule.endpoint](**req.view_args)\n",
      "  File \"<ipython-input-1-13bf94209860>\", line 68, in create_item_in_store\n",
      "    \"name\": request_data[\"name\"],\n",
      "TypeError: 'NoneType' object is not subscriptable\n",
      "127.0.0.1 - - [17/Aug/2021 23:06:09] \"\u001b[35m\u001b[1mPOST /store/My%20Wonderful%20Store/item HTTP/1.1\u001b[0m\" 500 -\n",
      "127.0.0.1 - - [17/Aug/2021 23:06:23] \"\u001b[31m\u001b[1mPOST /store/My%20Wonderful%20Store?= HTTP/1.1\u001b[0m\" 405 -\n",
      "127.0.0.1 - - [17/Aug/2021 23:06:37] \"\u001b[37mPOST /store HTTP/1.1\u001b[0m\" 200 -\n",
      "127.0.0.1 - - [17/Aug/2021 23:07:02] \"\u001b[37mGET /store HTTP/1.1\u001b[0m\" 200 -\n",
      "[2021-08-17 23:07:34,434] ERROR in app: Exception on /store/My Wonderful Store/item [POST]\n",
      "Traceback (most recent call last):\n",
      "  File \"C:\\Users\\Eugene\\anaconda3\\lib\\site-packages\\flask\\app.py\", line 2447, in wsgi_app\n",
      "    response = self.full_dispatch_request()\n",
      "  File \"C:\\Users\\Eugene\\anaconda3\\lib\\site-packages\\flask\\app.py\", line 1952, in full_dispatch_request\n",
      "    rv = self.handle_user_exception(e)\n",
      "  File \"C:\\Users\\Eugene\\anaconda3\\lib\\site-packages\\flask\\app.py\", line 1821, in handle_user_exception\n",
      "    reraise(exc_type, exc_value, tb)\n",
      "  File \"C:\\Users\\Eugene\\anaconda3\\lib\\site-packages\\flask\\_compat.py\", line 39, in reraise\n",
      "    raise value\n",
      "  File \"C:\\Users\\Eugene\\anaconda3\\lib\\site-packages\\flask\\app.py\", line 1950, in full_dispatch_request\n",
      "    rv = self.dispatch_request()\n",
      "  File \"C:\\Users\\Eugene\\anaconda3\\lib\\site-packages\\flask\\app.py\", line 1936, in dispatch_request\n",
      "    return self.view_functions[rule.endpoint](**req.view_args)\n",
      "  File \"<ipython-input-1-13bf94209860>\", line 68, in create_item_in_store\n",
      "    \"name\": request_data[\"name\"],\n",
      "TypeError: 'NoneType' object is not subscriptable\n",
      "127.0.0.1 - - [17/Aug/2021 23:07:34] \"\u001b[35m\u001b[1mPOST /store/My%20Wonderful%20Store/item HTTP/1.1\u001b[0m\" 500 -\n",
      "[2021-08-17 23:07:38,108] ERROR in app: Exception on /store/My Wonderful Store/item [POST]\n",
      "Traceback (most recent call last):\n",
      "  File \"C:\\Users\\Eugene\\anaconda3\\lib\\site-packages\\flask\\app.py\", line 2447, in wsgi_app\n",
      "    response = self.full_dispatch_request()\n",
      "  File \"C:\\Users\\Eugene\\anaconda3\\lib\\site-packages\\flask\\app.py\", line 1952, in full_dispatch_request\n",
      "    rv = self.handle_user_exception(e)\n",
      "  File \"C:\\Users\\Eugene\\anaconda3\\lib\\site-packages\\flask\\app.py\", line 1821, in handle_user_exception\n",
      "    reraise(exc_type, exc_value, tb)\n",
      "  File \"C:\\Users\\Eugene\\anaconda3\\lib\\site-packages\\flask\\_compat.py\", line 39, in reraise\n",
      "    raise value\n",
      "  File \"C:\\Users\\Eugene\\anaconda3\\lib\\site-packages\\flask\\app.py\", line 1950, in full_dispatch_request\n",
      "    rv = self.dispatch_request()\n",
      "  File \"C:\\Users\\Eugene\\anaconda3\\lib\\site-packages\\flask\\app.py\", line 1936, in dispatch_request\n",
      "    return self.view_functions[rule.endpoint](**req.view_args)\n",
      "  File \"<ipython-input-1-13bf94209860>\", line 68, in create_item_in_store\n",
      "    \"name\": request_data[\"name\"],\n",
      "TypeError: 'NoneType' object is not subscriptable\n",
      "127.0.0.1 - - [17/Aug/2021 23:07:38] \"\u001b[35m\u001b[1mPOST /store/My%20Wonderful%20Store/item HTTP/1.1\u001b[0m\" 500 -\n",
      "127.0.0.1 - - [17/Aug/2021 23:07:47] \"\u001b[37mGET /store/My%20Wonderful%20Store/item HTTP/1.1\u001b[0m\" 200 -\n",
      "127.0.0.1 - - [17/Aug/2021 23:07:54] \"\u001b[31m\u001b[1mPOST /store/My%20Wonderful%20Store?= HTTP/1.1\u001b[0m\" 405 -\n",
      "127.0.0.1 - - [17/Aug/2021 23:08:29] \"\u001b[31m\u001b[1mPOST /store/My%20Wonderful%20Store?= HTTP/1.1\u001b[0m\" 405 -\n",
      "127.0.0.1 - - [17/Aug/2021 23:09:54] \"\u001b[31m\u001b[1mPOST /store/My%20Wonderful%20Store?= HTTP/1.1\u001b[0m\" 405 -\n",
      "127.0.0.1 - - [17/Aug/2021 23:10:30] \"\u001b[37mPOST /store/My%20Wonderful%20Store/item HTTP/1.1\u001b[0m\" 200 -\n"
     ]
    }
   ],
   "source": [
    "app.run(port=5000)"
   ]
  },
  {
   "cell_type": "code",
   "execution_count": null,
   "metadata": {},
   "outputs": [],
   "source": []
  },
  {
   "cell_type": "code",
   "execution_count": 1,
   "metadata": {},
   "outputs": [
    {
     "name": "stdout",
     "output_type": "stream",
     "text": [
      "Overwriting security.py\n"
     ]
    }
   ],
   "source": [
    "%%writefile security.py\n",
    "from resources.user import UserModel\n",
    "from werkzeug.security import safe_str_cmp\n",
    "\n",
    "# users = [{\"id\": 1, \"name\": \"bob\", \"password\": \"asdf\"}]\n",
    "# users = [\n",
    "#     User(1, \"bob\", \"asdf\"),\n",
    "# ]\n",
    "\n",
    "# username_mapping = {\"bob\": { \"id\": 1, \"name\": \"bob\", \"password\": \"asdf\"}}\n",
    "# username_mapping = {u.username: u for u in users}\n",
    "\n",
    "# userid_mapping = {1: {\"id\": 1, \"name\": \"bob\", \"password\": \"asdf\"}}\n",
    "# userid_mapping = {u.id: u for u in users}\n",
    "\n",
    "\n",
    "def authenticate(username, password):\n",
    "    user = UserModel.find_by_username(username)  # username_mapping.get(username)\n",
    "    if user and safe_str_cmp(user.password, password):\n",
    "        return user\n",
    "\n",
    "def identity(payload):  # Flask JWT\n",
    "    user_id = payload[\"identity\"]\n",
    "    return UserModel.find_by_id(user_id)\n",
    "    # return userid_mapping.get(user_id, None)"
   ]
  },
  {
   "cell_type": "code",
   "execution_count": 2,
   "metadata": {
    "scrolled": false
   },
   "outputs": [
    {
     "name": "stdout",
     "output_type": "stream",
     "text": [
      "Overwriting app.py\n"
     ]
    }
   ],
   "source": [
    "%%writefile app.py\n",
    "from flask import Flask\n",
    "from flask_restful import Api  # Resource usually mapped to database tables\n",
    "from flask_jwt import JWT\n",
    "\n",
    "from security import authenticate, identity\n",
    "from resources.user import UserRegister\n",
    "from resources.item import Item, ItemList\n",
    "\n",
    "app = Flask(__name__)\n",
    "app.secret_key = \"jose\"\n",
    "api = Api(app)\n",
    "jwt = JWT(app, authenticate, identity)  # /auth for access token\n",
    "\n",
    "\n",
    "\n",
    "api.add_resource(Item, \"/item/<string:name>\")  # http://127.0.0.1/5000/student/Rolf\n",
    "api.add_resource(ItemList, \"/items\")\n",
    "api.add_resource(UserRegister, \"/register\")\n",
    "\n",
    "if __name__ == \"__main__\":\n",
    "    app.run(\n",
    "        port=5000,\n",
    "        debug=True,  # helpful error messages\n",
    "    )\n",
    "    # Test-first API design where put API calls in Postman first and then code up API endpoints"
   ]
  },
  {
   "cell_type": "code",
   "execution_count": 19,
   "metadata": {},
   "outputs": [
    {
     "name": "stdout",
     "output_type": "stream",
     "text": [
      "^C\n"
     ]
    }
   ],
   "source": [
    "!python app.py"
   ]
  },
  {
   "cell_type": "code",
   "execution_count": null,
   "metadata": {},
   "outputs": [],
   "source": [
    "# resources have CRUD operations and return json\n",
    "# resource is external representation of entity\n",
    "#     API responds with resources; resource is what an API clients (website/app) thinks off\n",
    "#     json representation\n",
    "# model an internal representation of entity\n",
    "#     helper without polluting resource"
   ]
  },
  {
   "cell_type": "code",
   "execution_count": 18,
   "metadata": {},
   "outputs": [
    {
     "name": "stdout",
     "output_type": "stream",
     "text": [
      "Overwriting resources/item.py\n"
     ]
    }
   ],
   "source": [
    "%%writefile resources/item.py\n",
    "from flask_restful import Resource, reqparse\n",
    "from flask_jwt import jwt_required\n",
    "import sqlite3\n",
    "from models.item import ItemModel\n",
    "\n",
    "\n",
    "class Item(Resource):\n",
    "    parser = reqparse.RequestParser()\n",
    "    parser.add_argument(  # like argparse\n",
    "        \"price\",\n",
    "        type=float,\n",
    "        required=True,\n",
    "        help=\"This field cannot be left blank!\",\n",
    "    )\n",
    "\n",
    "    # @app.route(\"/student/<string:name>\")\n",
    "    @jwt_required()  # need access token\n",
    "    def get(self, name):\n",
    "#         item = next(filter(lambda x: x[\"name\"] == name, items), None)\n",
    "#         if item is not None:\n",
    "#             return {\"item\": item}, 200 if item else 404\n",
    "# #         for item in items:\n",
    "# #             if item[\"name\"] == name:\n",
    "# #                 return item\n",
    "#         return {\"item\": None}, 404  # don't need to raise an Exception\n",
    "# #        return {\"student\": name}  # don't need to jsonify? Yes, due to flask_restful\n",
    "        item = ItemModel.find_by_name(name)\n",
    "        if item:\n",
    "            return item.json()  # return item\n",
    "        return {\"message\": \"Item not found\"}, 404\n",
    "        \n",
    "    def post(self, name):  # has to be same signature as get()\n",
    "#         # request_data = request.get_json(force=True)  # do not need content type header\n",
    "#         # request_data = request.get_json(silent=True)  # doesn't give error, returns None\n",
    "#         if next(filter(lambda x: x[\"name\"] == name, items), None):\n",
    "#             return {\"message\": f\"An item with name '{name}' already exists\"}, 400  # bad request\n",
    "\n",
    "# #         request_data = request.get_json()  # separate the name from the price\n",
    "#         # price = request_data[\"price\"]\n",
    "        if ItemModel.find_by_name(name):\n",
    "            return {\"message\": f\"An item with name {name} already exists\"}, 400\n",
    "\n",
    "        data = Item.parser.parse_args()  # how do these functions get the data without arguments?\n",
    "        # item = {\"name\": name, \"price\": data[\"price\"]}\n",
    "        item = ItemModel(name, data[\"price\"])\n",
    "        try:\n",
    "            # ItemModel.insert(item)\n",
    "            item.insert()\n",
    "        except:\n",
    "            return {\"message\": \"An error occurred inserting the item\"}, 500  # internal server error\n",
    "\n",
    "        return item.json(), 201  # it appears that 200 is default status code\n",
    "\n",
    "    def put(self, name):  # idempotent action\n",
    "        # data = request.get_json()  # how do these functions get the data without arguments?\n",
    "        data = Item.parser.parse_args()  # how do these functions get the data without arguments?\n",
    "#         item = next(filter(lambda x: x[\"name\"] == name, items), None)\n",
    "        item = ItemModel.find_by_name(name)\n",
    "        # updated_item = {\"name\": name, \"price\": data[\"price\"]}\n",
    "        updated_item = ItemModel(name, data[\"price\"])\n",
    "        if item is None:\n",
    "#             item = {\"name\": name, \"price\": data[\"price\"]}\n",
    "#             items.append(item)\n",
    "            try:\n",
    "                # ItemModel.insert(updated_item)\n",
    "                updated_item.insert()\n",
    "            except:\n",
    "                return {\"message\": \"An error occurred inserting the item\"}, 500\n",
    "        else:\n",
    "#             item.update(data)\n",
    "            try:\n",
    "                # ItemModel.update(updated_item)\n",
    "                updated_item.update()\n",
    "            except:\n",
    "                return {\"message\": \"An error occurred inserting the item\"}, 500\n",
    "        return updated_item.json()\n",
    "\n",
    "    def delete(self, name):  # should the delete body be moved to ItemModel? no\n",
    "#         global items  # allows \"mutating\" list\n",
    "#         items = list(filter(lambda x: x[\"name\"] != name, items))\n",
    "        connection = sqlite3.connect(\"data.db\")\n",
    "        cursor = connection.cursor()\n",
    "        query = \"DELETE FROM items WHERE name=?\"\n",
    "        cursor.execute(query, (name,))\n",
    "        connection.commit()\n",
    "        connection.close()\n",
    "        return {\"message\": \"Item deleted\"}\n",
    "\n",
    "\n",
    "class ItemList(Resource):\n",
    "    def get(self):\n",
    "        connection = sqlite3.connect(\"data.db\")\n",
    "        cursor = connection.cursor()\n",
    "        query = \"SELECT * FROM items\"\n",
    "        result = cursor.execute(query)\n",
    "        items = []\n",
    "        for row in result:\n",
    "            items.append({\"name\": row[0], \"price\": row[1]})\n",
    "        connection.close()\n",
    "        \n",
    "        return {\"items\": items}  # must return a dictionary    "
   ]
  },
  {
   "cell_type": "code",
   "execution_count": 17,
   "metadata": {},
   "outputs": [
    {
     "name": "stdout",
     "output_type": "stream",
     "text": [
      "Overwriting models/item.py\n"
     ]
    }
   ],
   "source": [
    "%%writefile models/item.py\n",
    "import sqlite3\n",
    "\n",
    "class ItemModel:\n",
    "    def __init__(self, name, price):\n",
    "        self.name = name\n",
    "        self.price = price\n",
    "\n",
    "    def json(self):\n",
    "        return {\"name\": self.name, \"price\": self.price}\n",
    "\n",
    "    @classmethod\n",
    "    def find_by_name(cls, name):\n",
    "        connection = sqlite3.connect(\"data.db\")\n",
    "        cursor = connection.cursor()\n",
    "        query = \"SELECT * FROM items WHERE name=?\"\n",
    "        result = cursor.execute(query, (name,))\n",
    "        row = result.fetchone()\n",
    "        connection.close()\n",
    "        if row:\n",
    "            # return {\"item\": {\"name\": row[0], \"price\": row[1]}}\n",
    "            return cls(*row)\n",
    "\n",
    "    def insert(self):\n",
    "        connection = sqlite3.connect(\"data.db\")\n",
    "        cursor = connection.cursor()\n",
    "        query = \"INSERT INTO items VALUES (?, ?)\"\n",
    "        cursor.execute(query, (self.name, self.price))\n",
    "        connection.commit()\n",
    "        connection.close()\n",
    "\n",
    "    def update(self):\n",
    "        connection = sqlite3.connect(\"data.db\")\n",
    "        cursor = connection.cursor()\n",
    "        query = \"UPDATE items SET price=? WHERE name=?\"\n",
    "        cursor.execute(query, (self.price, self.name))\n",
    "        connection.commit()\n",
    "        connection.close()\n"
   ]
  },
  {
   "cell_type": "code",
   "execution_count": 5,
   "metadata": {},
   "outputs": [
    {
     "name": "stdout",
     "output_type": "stream",
     "text": [
      "Overwriting resources/user.py\n"
     ]
    }
   ],
   "source": [
    "%%writefile resources/user.py\n",
    "import sqlite3\n",
    "from flask_restful import Resource, reqparse\n",
    "from models.user import UserModel\n",
    "\n",
    "class UserRegister(Resource):\n",
    "    parser = reqparse.RequestParser()\n",
    "    parser.add_argument(  # like argparse\n",
    "        \"username\",\n",
    "        type=str,\n",
    "        required=True,\n",
    "        help=\"This field cannot be left blank!\",\n",
    "    )\n",
    "    parser.add_argument(  # like argparse\n",
    "        \"password\",\n",
    "        type=str,\n",
    "        required=True,\n",
    "        help=\"This field cannot be left blank!\",\n",
    "    )\n",
    "\n",
    "    def post(self):\n",
    "        data = UserRegister.parser.parse_args()  # how do these functions get the data without arguments?\n",
    "        if UserModel.find_by_username(data[\"username\"]):\n",
    "            return {\"message\": \"Username already exists\"}, 400\n",
    "\n",
    "        connection = sqlite3.connect(\"data.db\")\n",
    "        cursor = connection.cursor()\n",
    "        query = \"INSERT INTO users VALUES (NULL, ?, ?)\"  # because auto-increment\n",
    "        cursor.execute(query, (data[\"username\"], data[\"password\"]))\n",
    "        connection.commit()\n",
    "        connection.close()\n",
    "        return {\"message\": \"User created successfully.\"}, 201"
   ]
  },
  {
   "cell_type": "code",
   "execution_count": 6,
   "metadata": {},
   "outputs": [
    {
     "name": "stdout",
     "output_type": "stream",
     "text": [
      "Overwriting models/user.py\n"
     ]
    }
   ],
   "source": [
    "%%writefile models/user.py\n",
    "import sqlite3\n",
    "\n",
    "\n",
    "class UserModel:\n",
    "    def __init__(self, _id, username, password):\n",
    "        self.id = _id\n",
    "        self.username = username\n",
    "        self.password = password\n",
    "\n",
    "    @classmethod\n",
    "    def find_by_username(cls, username):\n",
    "        connection = sqlite3.connect(\"data.db\")\n",
    "        cursor = connection.cursor()\n",
    "        query = \"SELECT * FROM users WHERE username=?\"\n",
    "        result = cursor.execute(query, (username,))  # need to be in a tuple\n",
    "        row = result.fetchone()\n",
    "        if row:\n",
    "            user = cls(*row)  # user = cls(row[0], row[1], row[2])\n",
    "        else:\n",
    "            user = None\n",
    "        connection.close()\n",
    "        return user\n",
    "\n",
    "    @classmethod\n",
    "    def find_by_id(cls, _id):\n",
    "        connection = sqlite3.connect(\"data.db\")\n",
    "        cursor = connection.cursor()\n",
    "        query = \"SELECT * FROM users WHERE id=?\"\n",
    "        result = cursor.execute(query, (_id,))  # need to be in a tuple\n",
    "        row = result.fetchone()\n",
    "        if row:\n",
    "            user = cls(*row)  # user = cls(row[0], row[1], row[2])\n",
    "        else:\n",
    "            user = None\n",
    "        connection.close()\n",
    "        return user"
   ]
  },
  {
   "cell_type": "code",
   "execution_count": null,
   "metadata": {},
   "outputs": [],
   "source": []
  },
  {
   "cell_type": "code",
   "execution_count": null,
   "metadata": {},
   "outputs": [],
   "source": []
  },
  {
   "cell_type": "code",
   "execution_count": 7,
   "metadata": {},
   "outputs": [
    {
     "name": "stdout",
     "output_type": "stream",
     "text": [
      "Overwriting create_tables.py\n"
     ]
    }
   ],
   "source": [
    "%%writefile create_tables.py\n",
    "import sqlite3\n",
    "\n",
    "connection = sqlite3.connect(\"data.db\")\n",
    "cursor = connection.cursor()\n",
    "\n",
    "create_table = \"CREATE TABLE IF NOT EXISTS users (id INTEGER PRIMARY KEY, username text, password text)\"\n",
    "cursor.execute(create_table)\n",
    "\n",
    "\n",
    "create_table = \"CREATE TABLE IF NOT EXISTS items (name text, price real)\"\n",
    "cursor.execute(create_table)\n",
    "# cursor.execute(\"INSERT INTO items VALUES ('test', 10.99)\")\n",
    "\n",
    "connection.commit()\n",
    "connection.close()"
   ]
  },
  {
   "cell_type": "code",
   "execution_count": 6,
   "metadata": {},
   "outputs": [],
   "source": [
    "!python create_tables.py"
   ]
  },
  {
   "cell_type": "code",
   "execution_count": null,
   "metadata": {},
   "outputs": [],
   "source": []
  },
  {
   "cell_type": "code",
   "execution_count": null,
   "metadata": {},
   "outputs": [],
   "source": []
  },
  {
   "cell_type": "code",
   "execution_count": 1,
   "metadata": {},
   "outputs": [],
   "source": [
    "import sqlite3\n",
    "\n",
    "connection = sqlite3.connect(\"data.db\")\n",
    "cursor = connection.cursor()"
   ]
  },
  {
   "cell_type": "code",
   "execution_count": 2,
   "metadata": {},
   "outputs": [],
   "source": [
    "create_table = \"CREATE TABLE users (id int, username text, password text)\"\n",
    "cursor.execute(create_table)\n",
    "\n",
    "user = (1, \"jose\", \"asdf\")\n",
    "insert_query = \"INSERT INTO users VALUES (?, ?, ?)\"  # it just figures it out!\n",
    "cursor.execute(insert_query, user)\n",
    "users = [\n",
    "    (2, \"rolf\", \"asdf\"),\n",
    "    (3, \"anne\", \"xyz\"),\n",
    "]\n",
    "cursor.executemany(insert_query, users)\n",
    "connection.commit()\n",
    "connection.close()"
   ]
  },
  {
   "cell_type": "code",
   "execution_count": 3,
   "metadata": {},
   "outputs": [
    {
     "name": "stdout",
     "output_type": "stream",
     "text": [
      "(1, 'jose', 'asdf')\n",
      "(2, 'rolf', 'asdf')\n",
      "(3, 'anne', 'xyz')\n"
     ]
    }
   ],
   "source": [
    "connection = sqlite3.connect(\"data.db\")\n",
    "cursor = connection.cursor()\n",
    "select_query = \"SELECT * FROM users\"\n",
    "#cursor.execute(\"SELECT * FROM users\").fetchall()\n",
    "for row in cursor.execute(select_query):\n",
    "    print(row)\n",
    "connection.close()"
   ]
  },
  {
   "cell_type": "code",
   "execution_count": null,
   "metadata": {},
   "outputs": [],
   "source": []
  },
  {
   "cell_type": "code",
   "execution_count": 1,
   "metadata": {},
   "outputs": [
    {
     "data": {
      "text/plain": [
       "[('stores',), ('users',), ('items',)]"
      ]
     },
     "execution_count": 1,
     "metadata": {},
     "output_type": "execute_result"
    }
   ],
   "source": [
    "import sqlite3\n",
    "\n",
    "connection = sqlite3.connect(\"data.db\")\n",
    "cursor = connection.cursor()\n",
    "cursor.execute(\"SELECT name FROM sqlite_master WHERE type='table'\").fetchall()"
   ]
  },
  {
   "cell_type": "code",
   "execution_count": null,
   "metadata": {},
   "outputs": [],
   "source": []
  },
  {
   "cell_type": "code",
   "execution_count": null,
   "metadata": {},
   "outputs": [],
   "source": [
    "When go to http://www.google.com, it is equivalent to\n",
    "GET / HTTP/1.1  # GET is verb, / is path, HTTP/1.1 is protocol\n",
    "Host: www.google.com  # host\n",
    "\n",
    "going to a page will always do a GET\n",
    "server responds to request with resources (data)\n",
    "can GET/POST/PUT/DELETE /item/chair (resource)\n",
    "REST is stateless ( 1 request cannot depend on other requests)\n",
    "REST is about resources and stateless servers\n",
    "Even if POST, the server does not know it exists, so GET has to check database\n",
    "when user logs into a website, must send enough data to identity the user in every request\n",
    "flask_jwt_extended (seems to have breaking changes between versions)\n",
    "    * create_access_token() where you specify what info is the identity\n",
    "    * create_refresh_token()\n",
    "    * jwt_required() where need access token to execute Resource's method\n",
    "    * get_jwt_claims()\n",
    "        * claims are just pieces of data attached to JWT payload\n",
    "        * claims allows us to do something when JWT comes back to use\n",
    "        * uses \"Bearer\" in the authorization header. Use \"JWT\" when just using flask_jwt\n",
    "    * jwt_optional() where can call get_jwt_identity() to get identity or None\n",
    "    * fresh token: token you recently received after entering username and password\n",
    "    * non-fresh token: token you received by refreshing previous token\n",
    "\n",
    "JSON:\n",
    "    * is not a dictionary, it is a string, so app has to return string\n",
    "    * json cannot be a list, must be a dict\n",
    "    * always uses double quotes\n",
    "Use Postman to test APIs (save and run API endpoints)\n",
    "    can put environment variable and then use them with {{variable_name}}\n",
    "    can use tests to capture info to run automated tests for each endpoint and set more environment variables (like jwt_token)\n",
    "    can run a series of endpoints and their tests as a collection\n",
    "Heroku is a web service that runs your code and allows others to access it\n",
    "    * hosting: giving other people a URL (wordpress, Flask apps)\n",
    "    * Heroku app will run 1 Dyno (Heroku's server/VM)\n",
    "        * run Flask app (Flask-RESTtful and Flask-SQLAlchemy) and uWSGI\n",
    "        * distributed hosting service so each dyno is separate from the others\n",
    "    * enables SSL (Secure Socket Layer), which encrypts sensitive info like passwords\n",
    "    * after creating Heroku account, \"Create new app\" > Deployment method is GitHub > search for your public repo >\n",
    "                                  under Settings, select Python buildpack > under Deploy, can do automatic or manual deploy\n",
    "    * for Heroku CLI, \"heroku login\" > \"heroku logs --app=stores-rest-api\"\n",
    "    * uWSGI does not run app.py but imports it; hence __name__ == \"__main__\" is not run\n",
    "        * use run.py  where copy app.py's __name__ == \"__main__\" code block and @app.before_first_request, update uwsgi.ini to use run instead of app\n",
    "\n",
    "DNS is service which allows user to type url string and get to the right IP address\n",
    "The course uses Namecheap\n",
    "When you put example.com in the browser, it goes to the root servers, which will first direct\n",
    "    you to .com (Top Level Domain TLD), TLD servers will send tell you the authoritative server that knows ip address\n",
    "    of example.com\n",
    "The point is such that users don't have to put in an ip address, they can use a friendly url and interact with it\n",
    "CloudFlare is the CDN and also SSL certificate, which you copy and paste into your server\n",
    "\n",
    "is the server the host?\n",
    "Does request.get_json() just magically work?\n",
    "How to automate testing without Postman?"
   ]
  },
  {
   "cell_type": "code",
   "execution_count": 1,
   "metadata": {},
   "outputs": [],
   "source": [
    "import sqlite3\n",
    "\n",
    "conn = sqlite3.connect(\"data.db\")\n",
    "cursor = conn.cursor()"
   ]
  },
  {
   "cell_type": "code",
   "execution_count": 2,
   "metadata": {},
   "outputs": [
    {
     "data": {
      "text/plain": [
       "[(1, 'jose', 'asdf')]"
      ]
     },
     "execution_count": 2,
     "metadata": {},
     "output_type": "execute_result"
    }
   ],
   "source": [
    "cursor.execute(\"SELECT * FROM users\").fetchall()"
   ]
  },
  {
   "cell_type": "code",
   "execution_count": 3,
   "metadata": {},
   "outputs": [
    {
     "data": {
      "text/plain": [
       "[(1, 'test'), (2, 'test2')]"
      ]
     },
     "execution_count": 3,
     "metadata": {},
     "output_type": "execute_result"
    }
   ],
   "source": [
    "cursor.execute(\"SELECT * FROM stores\").fetchall()"
   ]
  },
  {
   "cell_type": "code",
   "execution_count": null,
   "metadata": {},
   "outputs": [],
   "source": []
  }
 ],
 "metadata": {
  "kernelspec": {
   "display_name": "Python 3",
   "language": "python",
   "name": "python3"
  },
  "language_info": {
   "codemirror_mode": {
    "name": "ipython",
    "version": 3
   },
   "file_extension": ".py",
   "mimetype": "text/x-python",
   "name": "python",
   "nbconvert_exporter": "python",
   "pygments_lexer": "ipython3",
   "version": "3.8.3"
  }
 },
 "nbformat": 4,
 "nbformat_minor": 4
}
